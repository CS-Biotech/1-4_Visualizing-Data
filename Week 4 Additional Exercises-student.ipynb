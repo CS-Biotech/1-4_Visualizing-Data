{
 "cells": [
  {
   "attachments": {},
   "cell_type": "markdown",
   "id": "8c284c13",
   "metadata": {},
   "source": [
    "# Week 4: Visualizing Data 📊\n",
    "# Additional Exercises\n",
    "\n",
    "This week's additional exercises will focus on enhancing our plots by incorporating more advanced visual features. These improvements aim to increase the interpretative value of our visualizations. By the conclusion of these exercises, our objective is to produce plots that are not just tools for data organization, but also of a quality suitable for publication.\n",
    "\n",
    "To get a better grasp of the visualization packages we are using, it is always beneficial to read the documentation for them. Here are the links to the documentation for `seaborn` and `pandas` plot.\n",
    "\n",
    "**Seaborn**: https://seaborn.pydata.org/tutorial.html\n",
    "\n",
    "**Pandas Plot**: https://pandas.pydata.org/docs/reference/api/pandas.DataFrame.plot.html\n",
    "\n",
    "In the code below, we are once again generating the heatmap from the main module. We will make some further modifications to the code in this module."
   ]
  },
  {
   "cell_type": "code",
   "execution_count": null,
   "id": "391b3f05",
   "metadata": {},
   "outputs": [],
   "source": [
    "import pandas as pd\n",
    "import seaborn as sns\n",
    "\n",
    "df = pd.read_csv('hf_data_tut.csv')\n",
    "\n",
    "# TODO: Add additional customizations following directions below\n",
    "\n",
    "# Generate the heatmap\n",
    "heatmap = sns.heatmap(df.corr(), annot = True, cmap = 'Blues')\n",
    "\n",
    "# Resize the plot for better viewing\n",
    "heatmap.figure.set_figwidth(15)\n",
    "heatmap.figure.set_figheight(10)\n",
    "\n",
    "# Set a title for the heatmap\n"
   ]
  },
  {
   "attachments": {},
   "cell_type": "markdown",
   "id": "81099e57",
   "metadata": {},
   "source": [
    "This plot effectively serves our analytical needs, as we are familiar with the context of the data and the specific questions it helps us address. Yet, for others lacking this background, the significance of the heatmap might not be immediately clear. To bridge this gap, we'll enhance the diagram with additional informative elements, ensuring it conveys the necessary context and insights more clearly to all viewers.\n",
    "\n",
    "**Starting off, in the code cell above, let's add a title.** You can do so with the `set_title()` function."
   ]
  },
  {
   "attachments": {},
   "cell_type": "markdown",
   "id": "a5e99669",
   "metadata": {},
   "source": [
    "Now, without altering the title and keeping the default parameters, our title may look a bit small and insignificant. It would be nice to see if we can change the characteristics of the title and adjust its font size. To do so, you will have to change the parameter `fontdict` in the function. As the name suggests, this parameter takes a dictionary of characteristics for the font that will be used for the title. We are specifically interested in `'fontsize'`.\n",
    "\n",
    "Therefore, **please set the `'fontsize'` key in the `fontdict` parameter to the value `20`**. "
   ]
  },
  {
   "attachments": {},
   "cell_type": "markdown",
   "id": "3a4c676c",
   "metadata": {},
   "source": [
    "As a final adjustment to the title of the heatmap, we would like to move the title a bit farther away from the heatmap itself. \n",
    "\n",
    "To do this, you will have to **adjust the `pad` parameter in `set_title()`; set it to `15`**."
   ]
  },
  {
   "attachments": {},
   "cell_type": "markdown",
   "id": "62917df0",
   "metadata": {},
   "source": [
    "Moving on to other things, let's say that we would like to change the colours displayed in the heatmap. As indicators of heart disease are usually important concerns, it may be appropriate to stress the criticality of these correlations. To do so, let us change the colour scheme used for the heatmap. Instead of blue, we can use a range of reds to stress the health concerning nature of our data.\n",
    "\n",
    "To do so, **please alter the `cmap` parameter**."
   ]
  },
  {
   "attachments": {},
   "cell_type": "markdown",
   "id": "8bfe6273",
   "metadata": {},
   "source": [
    "Finally, let us change the font size of the correlation scores. In the original heatmap function, we went over the `annot` parameter, which shows the values within each grid. However, if we would like to give this heatmap in a presentation, it would be beneficial to increase the font size. To do so, we can provide a similar dictionary to the one we used earlier to change the font size of our title. The key in the dictionary would be `'size'`.\n",
    "\n",
    "**Please assign the parameter `annot_kws` to a dictionary for the instantiation of the heatmap object to change the font `'size'` to `12`.** "
   ]
  },
  {
   "attachments": {},
   "cell_type": "markdown",
   "id": "09f9e253",
   "metadata": {},
   "source": [
    "## Conclusion\n",
    "\n",
    "Following these recent modifications, interpreting the heatmap has become considerably more straightforward. Enhancements such as increasing the font sizes, incorporating images, and altering the color scheme have collectively transformed the diagram, making it significantly easier to understand and analyze."
   ]
  }
 ],
 "metadata": {
  "kernelspec": {
   "display_name": "Python 3 (ipykernel)",
   "language": "python",
   "name": "python3"
  },
  "language_info": {
   "codemirror_mode": {
    "name": "ipython",
    "version": 3
   },
   "file_extension": ".py",
   "mimetype": "text/x-python",
   "name": "python",
   "nbconvert_exporter": "python",
   "pygments_lexer": "ipython3",
   "version": "3.11.6"
  }
 },
 "nbformat": 4,
 "nbformat_minor": 5
}
