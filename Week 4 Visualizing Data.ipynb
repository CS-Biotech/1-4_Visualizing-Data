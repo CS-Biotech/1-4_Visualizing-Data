{
 "cells": [
  {
   "cell_type": "markdown",
   "id": "e4562f5f",
   "metadata": {
    "id": "e4562f5f"
   },
   "source": [
    "# Week 4: Visualizing Data 📊\n",
    "## Tutorial\n",
    "\n",
    "In the pre-module, you have seen just one example of a plot we can make using pandas ```hist()```. As you can imagine, technology can help us generate fantastic visualizations that would otherwise take a lot of time to refine and re-generate. Now it's your turn to learn to write the code that creates them!\n",
    "\n",
    "In this module you will learn:\n",
    "1. More plotting using pandas\n",
    "2. Bivariate analysis\n",
    "3. Plotting heatmaps using seaborn\n",
    "\n",
    "<span style=\"background-color: #FFD700\">**Complete the code below to load the dataset.**</span>"
   ]
  },
  {
   "cell_type": "code",
   "execution_count": null,
   "id": "175f44fa",
   "metadata": {
    "colab": {
     "base_uri": "https://localhost:8080/",
     "height": 321
    },
    "executionInfo": {
     "elapsed": 3112,
     "status": "error",
     "timestamp": 1734449203011,
     "user": {
      "displayName": "Elias Williams",
      "userId": "15612737538936993151"
     },
     "user_tz": 300
    },
    "id": "175f44fa",
    "outputId": "3d0fe365-bfee-4a64-b36b-088a64f96915"
   },
   "outputs": [
    {
     "ename": "FileNotFoundError",
     "evalue": "[Errno 2] No such file or directory: 'hf_data_tut.csv'",
     "output_type": "error",
     "traceback": [
      "\u001b[0;31m---------------------------------------------------------------------------\u001b[0m",
      "\u001b[0;31mFileNotFoundError\u001b[0m                         Traceback (most recent call last)",
      "\u001b[0;32m<ipython-input-1-24e2ec9c9c86>\u001b[0m in \u001b[0;36m<cell line: 2>\u001b[0;34m()\u001b[0m\n\u001b[1;32m      1\u001b[0m \u001b[0;32mimport\u001b[0m \u001b[0mpandas\u001b[0m \u001b[0;32mas\u001b[0m \u001b[0mpd\u001b[0m\u001b[0;34m\u001b[0m\u001b[0;34m\u001b[0m\u001b[0m\n\u001b[0;32m----> 2\u001b[0;31m \u001b[0mdf\u001b[0m \u001b[0;34m=\u001b[0m \u001b[0mpd\u001b[0m\u001b[0;34m.\u001b[0m\u001b[0mread_csv\u001b[0m\u001b[0;34m(\u001b[0m\u001b[0;34m'hf_data_tut.csv'\u001b[0m\u001b[0;34m)\u001b[0m\u001b[0;34m\u001b[0m\u001b[0;34m\u001b[0m\u001b[0m\n\u001b[0m\u001b[1;32m      3\u001b[0m \u001b[0mdf\u001b[0m\u001b[0;34m\u001b[0m\u001b[0;34m\u001b[0m\u001b[0m\n",
      "\u001b[0;32m/usr/local/lib/python3.10/dist-packages/pandas/io/parsers/readers.py\u001b[0m in \u001b[0;36mread_csv\u001b[0;34m(filepath_or_buffer, sep, delimiter, header, names, index_col, usecols, dtype, engine, converters, true_values, false_values, skipinitialspace, skiprows, skipfooter, nrows, na_values, keep_default_na, na_filter, verbose, skip_blank_lines, parse_dates, infer_datetime_format, keep_date_col, date_parser, date_format, dayfirst, cache_dates, iterator, chunksize, compression, thousands, decimal, lineterminator, quotechar, quoting, doublequote, escapechar, comment, encoding, encoding_errors, dialect, on_bad_lines, delim_whitespace, low_memory, memory_map, float_precision, storage_options, dtype_backend)\u001b[0m\n\u001b[1;32m   1024\u001b[0m     \u001b[0mkwds\u001b[0m\u001b[0;34m.\u001b[0m\u001b[0mupdate\u001b[0m\u001b[0;34m(\u001b[0m\u001b[0mkwds_defaults\u001b[0m\u001b[0;34m)\u001b[0m\u001b[0;34m\u001b[0m\u001b[0;34m\u001b[0m\u001b[0m\n\u001b[1;32m   1025\u001b[0m \u001b[0;34m\u001b[0m\u001b[0m\n\u001b[0;32m-> 1026\u001b[0;31m     \u001b[0;32mreturn\u001b[0m \u001b[0m_read\u001b[0m\u001b[0;34m(\u001b[0m\u001b[0mfilepath_or_buffer\u001b[0m\u001b[0;34m,\u001b[0m \u001b[0mkwds\u001b[0m\u001b[0;34m)\u001b[0m\u001b[0;34m\u001b[0m\u001b[0;34m\u001b[0m\u001b[0m\n\u001b[0m\u001b[1;32m   1027\u001b[0m \u001b[0;34m\u001b[0m\u001b[0m\n\u001b[1;32m   1028\u001b[0m \u001b[0;34m\u001b[0m\u001b[0m\n",
      "\u001b[0;32m/usr/local/lib/python3.10/dist-packages/pandas/io/parsers/readers.py\u001b[0m in \u001b[0;36m_read\u001b[0;34m(filepath_or_buffer, kwds)\u001b[0m\n\u001b[1;32m    618\u001b[0m \u001b[0;34m\u001b[0m\u001b[0m\n\u001b[1;32m    619\u001b[0m     \u001b[0;31m# Create the parser.\u001b[0m\u001b[0;34m\u001b[0m\u001b[0;34m\u001b[0m\u001b[0m\n\u001b[0;32m--> 620\u001b[0;31m     \u001b[0mparser\u001b[0m \u001b[0;34m=\u001b[0m \u001b[0mTextFileReader\u001b[0m\u001b[0;34m(\u001b[0m\u001b[0mfilepath_or_buffer\u001b[0m\u001b[0;34m,\u001b[0m \u001b[0;34m**\u001b[0m\u001b[0mkwds\u001b[0m\u001b[0;34m)\u001b[0m\u001b[0;34m\u001b[0m\u001b[0;34m\u001b[0m\u001b[0m\n\u001b[0m\u001b[1;32m    621\u001b[0m \u001b[0;34m\u001b[0m\u001b[0m\n\u001b[1;32m    622\u001b[0m     \u001b[0;32mif\u001b[0m \u001b[0mchunksize\u001b[0m \u001b[0;32mor\u001b[0m \u001b[0miterator\u001b[0m\u001b[0;34m:\u001b[0m\u001b[0;34m\u001b[0m\u001b[0;34m\u001b[0m\u001b[0m\n",
      "\u001b[0;32m/usr/local/lib/python3.10/dist-packages/pandas/io/parsers/readers.py\u001b[0m in \u001b[0;36m__init__\u001b[0;34m(self, f, engine, **kwds)\u001b[0m\n\u001b[1;32m   1618\u001b[0m \u001b[0;34m\u001b[0m\u001b[0m\n\u001b[1;32m   1619\u001b[0m         \u001b[0mself\u001b[0m\u001b[0;34m.\u001b[0m\u001b[0mhandles\u001b[0m\u001b[0;34m:\u001b[0m \u001b[0mIOHandles\u001b[0m \u001b[0;34m|\u001b[0m \u001b[0;32mNone\u001b[0m \u001b[0;34m=\u001b[0m \u001b[0;32mNone\u001b[0m\u001b[0;34m\u001b[0m\u001b[0;34m\u001b[0m\u001b[0m\n\u001b[0;32m-> 1620\u001b[0;31m         \u001b[0mself\u001b[0m\u001b[0;34m.\u001b[0m\u001b[0m_engine\u001b[0m \u001b[0;34m=\u001b[0m \u001b[0mself\u001b[0m\u001b[0;34m.\u001b[0m\u001b[0m_make_engine\u001b[0m\u001b[0;34m(\u001b[0m\u001b[0mf\u001b[0m\u001b[0;34m,\u001b[0m \u001b[0mself\u001b[0m\u001b[0;34m.\u001b[0m\u001b[0mengine\u001b[0m\u001b[0;34m)\u001b[0m\u001b[0;34m\u001b[0m\u001b[0;34m\u001b[0m\u001b[0m\n\u001b[0m\u001b[1;32m   1621\u001b[0m \u001b[0;34m\u001b[0m\u001b[0m\n\u001b[1;32m   1622\u001b[0m     \u001b[0;32mdef\u001b[0m \u001b[0mclose\u001b[0m\u001b[0;34m(\u001b[0m\u001b[0mself\u001b[0m\u001b[0;34m)\u001b[0m \u001b[0;34m->\u001b[0m \u001b[0;32mNone\u001b[0m\u001b[0;34m:\u001b[0m\u001b[0;34m\u001b[0m\u001b[0;34m\u001b[0m\u001b[0m\n",
      "\u001b[0;32m/usr/local/lib/python3.10/dist-packages/pandas/io/parsers/readers.py\u001b[0m in \u001b[0;36m_make_engine\u001b[0;34m(self, f, engine)\u001b[0m\n\u001b[1;32m   1878\u001b[0m                 \u001b[0;32mif\u001b[0m \u001b[0;34m\"b\"\u001b[0m \u001b[0;32mnot\u001b[0m \u001b[0;32min\u001b[0m \u001b[0mmode\u001b[0m\u001b[0;34m:\u001b[0m\u001b[0;34m\u001b[0m\u001b[0;34m\u001b[0m\u001b[0m\n\u001b[1;32m   1879\u001b[0m                     \u001b[0mmode\u001b[0m \u001b[0;34m+=\u001b[0m \u001b[0;34m\"b\"\u001b[0m\u001b[0;34m\u001b[0m\u001b[0;34m\u001b[0m\u001b[0m\n\u001b[0;32m-> 1880\u001b[0;31m             self.handles = get_handle(\n\u001b[0m\u001b[1;32m   1881\u001b[0m                 \u001b[0mf\u001b[0m\u001b[0;34m,\u001b[0m\u001b[0;34m\u001b[0m\u001b[0;34m\u001b[0m\u001b[0m\n\u001b[1;32m   1882\u001b[0m                 \u001b[0mmode\u001b[0m\u001b[0;34m,\u001b[0m\u001b[0;34m\u001b[0m\u001b[0;34m\u001b[0m\u001b[0m\n",
      "\u001b[0;32m/usr/local/lib/python3.10/dist-packages/pandas/io/common.py\u001b[0m in \u001b[0;36mget_handle\u001b[0;34m(path_or_buf, mode, encoding, compression, memory_map, is_text, errors, storage_options)\u001b[0m\n\u001b[1;32m    871\u001b[0m         \u001b[0;32mif\u001b[0m \u001b[0mioargs\u001b[0m\u001b[0;34m.\u001b[0m\u001b[0mencoding\u001b[0m \u001b[0;32mand\u001b[0m \u001b[0;34m\"b\"\u001b[0m \u001b[0;32mnot\u001b[0m \u001b[0;32min\u001b[0m \u001b[0mioargs\u001b[0m\u001b[0;34m.\u001b[0m\u001b[0mmode\u001b[0m\u001b[0;34m:\u001b[0m\u001b[0;34m\u001b[0m\u001b[0;34m\u001b[0m\u001b[0m\n\u001b[1;32m    872\u001b[0m             \u001b[0;31m# Encoding\u001b[0m\u001b[0;34m\u001b[0m\u001b[0;34m\u001b[0m\u001b[0m\n\u001b[0;32m--> 873\u001b[0;31m             handle = open(\n\u001b[0m\u001b[1;32m    874\u001b[0m                 \u001b[0mhandle\u001b[0m\u001b[0;34m,\u001b[0m\u001b[0;34m\u001b[0m\u001b[0;34m\u001b[0m\u001b[0m\n\u001b[1;32m    875\u001b[0m                 \u001b[0mioargs\u001b[0m\u001b[0;34m.\u001b[0m\u001b[0mmode\u001b[0m\u001b[0;34m,\u001b[0m\u001b[0;34m\u001b[0m\u001b[0;34m\u001b[0m\u001b[0m\n",
      "\u001b[0;31mFileNotFoundError\u001b[0m: [Errno 2] No such file or directory: 'hf_data_tut.csv'"
     ]
    }
   ],
   "source": [
    "import pandas as pd\n",
    "df = ...\n",
    "df"
   ]
  },
  {
   "cell_type": "markdown",
   "id": "8c59279e",
   "metadata": {
    "id": "8c59279e"
   },
   "source": [
    "## Pandas plot\n",
    "\n",
    "The ```hist()``` function you learned about in the pre-module notebook is a convenient function for generating historrams, but we can actually do much more visualization with the general plotting function for DataFrames, called **plot()**.\n",
    "\n",
    "\n",
    "| Function | Input parameters | Output | Syntax |\n",
    "| --- | --- | --- | --- |\n",
    "| plot() | kind, xlabel, ylabel, title | A plot of the data, using the specified kind of plot. | df.plot(kind, xlabel, ylabel, title) |\n",
    "\n",
    "This function has many parameters you can specify and play with, but you do not need to worry about them for now. The important parameter we'd like to point out is ```kind```. Since plot() is a general plotting function, the **kind** parameter lets us specify what type of plot we want to produce.\n",
    "\n",
    "These types of plots are available:\n",
    "\n",
    "**kind**\n",
    "* ‘line’ : line plot (default)\n",
    "* ‘bar’ : vertical bar plot\n",
    "* ‘barh’ : horizontal bar plot\n",
    "* ‘hist’ : histogram\n",
    "* ‘box’ : boxplot\n",
    "* ‘kde’ : Kernel Density Estimation plot\n",
    "* ‘density’ : same as ‘kde’\n",
    "* ‘area’ : area plot\n",
    "* ‘pie’ : pie plot\n",
    "* ‘scatter’ : scatter plot (DataFrame only)\n",
    "* ‘hexbin’ : hexbin plot (DataFrame only)\n",
    "\n",
    "You can specify the axis labels and title on the plot by giving strings for the parameters ```xlabel```, ```ylabel```, and ```title```.\n",
    "\n",
    "For example, if we wanted to plot a histogram for the ejection_fraction variable using plot() instead of hist(), we could specify it like this:"
   ]
  },
  {
   "cell_type": "code",
   "execution_count": null,
   "id": "418dc455",
   "metadata": {
    "id": "418dc455"
   },
   "outputs": [],
   "source": [
    "ef_hist = df['ejection_fraction'].plot(kind='hist', ylabel='Frequency', title='Histogram of ejection fraction')\n",
    "ef_hist"
   ]
  },
  {
   "cell_type": "markdown",
   "id": "da6251ce",
   "metadata": {
    "id": "da6251ce"
   },
   "source": [
    "Cool! What other kinds of plots can we make?"
   ]
  },
  {
   "cell_type": "markdown",
   "id": "07df8f7a",
   "metadata": {
    "id": "07df8f7a"
   },
   "source": [
    "### Bar graph\n",
    "\n",
    "Another way to examine the distribution of the data is through a bar graph. Say that instead of looking at the histogram of ejection_fraction (frequency of patients in each *bucket* of ejection fraction), we are now interested in how many patients there are for *every distinct* ejection fraction value. We can visualize the distribution using a bar graph with Number of Patients on the y-axis, and Ejection Fraction on the x-axis. We first use the ```value_counts()``` function to give us the frequency of each row in the ejection_fraction column, and then we plot the bar graph.\n",
    "\n",
    "Below is the result of value_counts() on the ejection fraction column. Run the cell below, and you should see all distinct values of ejection fraction (35 to 70) on the left hand column, with the corresponding frequency (number of patients) on the right column. Finally, ```sort_index()``` sorts the column values on the left in ascending order.\n",
    "\n",
    "| Function | Input parameters | Output | Syntax |\n",
    "| --- | --- | --- | --- |\n",
    "| value_counts() | n/a | The frequency of each row in the Series. | series.value_counts() |\n",
    "| sort_index() | n/a | The Series sorted in ascending order. | series.sort_index() |\n",
    "\n",
    "Remember that a Series in pandas is like a list of values. You can replace \"series\" in the syntax above with a row or column of a DataFrame."
   ]
  },
  {
   "cell_type": "code",
   "execution_count": null,
   "id": "0d8b3edc",
   "metadata": {
    "id": "0d8b3edc"
   },
   "outputs": [],
   "source": [
    "ef_dist = df['ejection_fraction'].value_counts().sort_index()\n",
    "ef_dist"
   ]
  },
  {
   "cell_type": "markdown",
   "id": "5fab14e8",
   "metadata": {
    "id": "5fab14e8"
   },
   "source": [
    "---\n",
    "\n",
    "##### **Q1.** Call the plot function on this result to generate a bar graph. You should label the y-axis \"Number of Patients\", and the x-axis \"Ejection Fraction\".\n",
    "\n",
    "<span style=\"background-color: #FFD700\">**Complete the code below.**</span>"
   ]
  },
  {
   "cell_type": "code",
   "execution_count": null,
   "id": "d6d552a2",
   "metadata": {
    "id": "d6d552a2"
   },
   "outputs": [],
   "source": [
    "# TODO: fill in all parameters of this function\n",
    "ef_dist.plot(...)"
   ]
  },
  {
   "cell_type": "markdown",
   "id": "748b132e",
   "metadata": {
    "id": "748b132e"
   },
   "source": [
    "---"
   ]
  },
  {
   "cell_type": "markdown",
   "id": "c66abb05",
   "metadata": {
    "id": "c66abb05"
   },
   "source": [
    "### Stacked bar plot\n",
    "\n",
    "As you carry on your research, you suspect that older patients might be at greater risk of death. You want to see what fraction of patients in each age group have died, versus the fraction that lived in that age group. How would you go about this?\n",
    "\n",
    "First, we want to sort each patient into their age group, and record this age group in a new column in the DataFrame. Then, we should get the counts of deaths per age group. We can then divide the death count of an age group by the total number of patients in that group to get the fractions of patients who died in that age group. We have provided the code below to do this data manipulation, and save the fractions in ```age_death_fractions```.\n",
    "\n",
    "\n",
    "<span style=\"background-color: #FFD700\">**Run the code below.**</span>"
   ]
  },
  {
   "cell_type": "code",
   "execution_count": null,
   "id": "1809ad66",
   "metadata": {
    "id": "1809ad66"
   },
   "outputs": [],
   "source": [
    "# Create age groups\n",
    "age_groups = [30, 40, 50, 60, 70, 80, 90, 100]\n",
    "df['age_group'] = pd.cut(df['age'], bins=age_groups)\n",
    "\n",
    "# Create a new DataFrame with counts of DEATH_EVENT for each age group\n",
    "age_death_counts = df.pivot_table(index='age_group', columns='DEATH_EVENT', aggfunc='size', fill_value=0)\n",
    "# Calculate the total count for each age group\n",
    "total_counts = age_death_counts.sum(axis=1)\n",
    "# Convert counts to fractions by dividing by the total count\n",
    "age_death_fractions = age_death_counts.div(total_counts, axis=0)\n",
    "age_death_fractions\n"
   ]
  },
  {
   "cell_type": "markdown",
   "id": "66442982",
   "metadata": {
    "id": "66442982"
   },
   "source": [
    "We could go ahead and generate a bar graph at this point, as we did in the previous section:"
   ]
  },
  {
   "cell_type": "code",
   "execution_count": null,
   "id": "c504321e",
   "metadata": {
    "id": "c504321e"
   },
   "outputs": [],
   "source": [
    "age_death_fractions.plot(kind=\"bar\", ylabel='Fraction of patients')"
   ]
  },
  {
   "cell_type": "markdown",
   "id": "abb16762",
   "metadata": {
    "id": "abb16762"
   },
   "source": [
    "---\n",
    "\n",
    "##### **Q2.** This is alright as a visualization, but it could be easier/quicker to interpret it if we stacked the orange and blue bars.\n",
    "\n",
    "To stack the two results for each outcome (death/no death), we just have to specify ```stacked=True``` in addition to specifying the ```kind``` as a bar graph when we call the ```plot()``` function.\n",
    "\n",
    "\n",
    "<span style=\"background-color: #FFD700\">**Complete the code below to plot the data in ```age_death_fractions``` as a stacked bar graph.**</span>\n"
   ]
  },
  {
   "cell_type": "code",
   "execution_count": null,
   "id": "abf48b21",
   "metadata": {
    "id": "abf48b21"
   },
   "outputs": [],
   "source": [
    "# TODO: fill in the arguments for the stacked bar plot\n",
    "age_death_fractions.plot(...)"
   ]
  },
  {
   "cell_type": "markdown",
   "id": "9ba4eb20",
   "metadata": {
    "id": "9ba4eb20"
   },
   "source": [
    "---\n",
    "\n",
    "##### **Q3.** What observations can you make about patients in the 70-79 age group?\n",
    "\n",
    "<span style=\"background-color: #FFD700\">**Write you answer here.**</span>\n",
    "\n",
    "Answer: \n"
   ]
  },
  {
   "cell_type": "markdown",
   "id": "aab00414",
   "metadata": {
    "id": "aab00414"
   },
   "source": [
    "---\n",
    "\n",
    "##### **Q4.** According to the stacked bar plot, do you think older age groups are at greater risk of death, as per your initial hypothesis? Support your answer with evidence from the plot.\n",
    "\n",
    "<span style=\"background-color: #FFD700\">**Write you answer here.**</span>\n",
    "\n",
    "Answer: "
   ]
  },
  {
   "cell_type": "markdown",
   "id": "ded446d2",
   "metadata": {
    "id": "ded446d2"
   },
   "source": [
    "---\n",
    "\n",
    "##### **Q5.** View ```age_death_counts``` by printing in a separate code cell below. Note how many patients are in each age category, particularly the youngest and oldest groups. Why might you want to exclude these groups when creating a stacked bar plot with the fraction of patients?\n",
    "\n",
    "<span style=\"background-color: #FFD700\">**Write you answer here.**</span>\n",
    "\n",
    "Answer: \n",
    "\n",
    "---"
   ]
  },
  {
   "cell_type": "markdown",
   "id": "ee05817c",
   "metadata": {
    "id": "ee05817c"
   },
   "source": [
    "### Box plot\n",
    "\n",
    "Boxplots are another very common type of plot to visualize distribution of data. To create a boxplot, we would specify ```box``` as the ```kind``` of plot when calling ```plot()``` on the column you want to plot."
   ]
  },
  {
   "cell_type": "code",
   "execution_count": null,
   "id": "eeddfb14",
   "metadata": {
    "id": "eeddfb14"
   },
   "outputs": [],
   "source": [
    "age_box = df['age'].plot(kind=\"box\", title=\"Boxplot of patient ages\")\n"
   ]
  },
  {
   "cell_type": "markdown",
   "id": "0bcac91f",
   "metadata": {
    "id": "0bcac91f"
   },
   "source": [
    "Take a look at the boxplot. Here is how to interpret it:\n",
    "\n",
    "Box: The box represents the interquartile range (IQR), which is the range between the first quartile (Q1) and the third quartile (Q3). The height of the box indicates the spread of the middle 50% of the data.\n",
    "\n",
    "Line inside the box: This line represents the median, which is the middle value of the dataset when it is sorted.\n",
    "\n",
    "Whiskers: The whiskers extend from the box to the minimum and maximum values within a defined range. The range is often set as a multiple of the IQR. Any data points beyond the whiskers are considered potential outliers.\n",
    "\n",
    "Outliers: Outliers will be shown as individual points outside of the box. In this boxplot, there are no outliers."
   ]
  },
  {
   "cell_type": "markdown",
   "id": "e6b9e787",
   "metadata": {
    "id": "e6b9e787"
   },
   "source": [
    "## Bivariate analysis\n",
    "\n",
    "You've seen lots of ways to view the distribution of data with histograms, bar graphs, stacked bar graphs, and boxplots. However, there is so much more to data science than just distribution! We also wish to learn about the correlation between features in our dataset.\n",
    "\n",
    "Bivariate analysis is useful when we want to know the relationship, or *correlation*, of two variables in the dataset. A correlation value falls between -1 and 1. The value can be interpreted as follows:\n",
    "\n",
    "<span style=\"background-color: #AFEEEE\">**-1 to 0:**</span>\n",
    " The two variables have a negative relationship; as one variable increases, the other decreases\n",
    "\n",
    "<span style=\"background-color: #AFEEEE\">**0:**</span>\n",
    " The two variables have no relationship with each other.\n",
    "\n",
    "<span style=\"background-color: #AFEEEE\">**0 to 1:**</span>\n",
    " The two variables have a positive relationship; as one variable increases, the other also increases.\n",
    "\n",
    "This means that values near zero (regardless of the sign) are weakly correlated, and values near -1 or 1 are strongly correlated.\n",
    "\n",
    "Since there are 12 variables in our heart failure dataset, there can be 12 x 12 = 144 comparisons. The DataFrame function **corr()** generates a table of correlation values.\n",
    "\n",
    "| Function | Input parameters | Output | Syntax |\n",
    "| --- | --- | --- | --- |\n",
    "| corr() | n/a | A table of correlation values for each pair of features. | df.corr() |\n",
    "\n",
    "<span style=\"background-color: #FFD700\">**Run the code cell below.**</span>"
   ]
  },
  {
   "cell_type": "code",
   "execution_count": null,
   "id": "7d80ff03",
   "metadata": {
    "id": "7d80ff03"
   },
   "outputs": [],
   "source": [
    "df.corr()"
   ]
  },
  {
   "cell_type": "markdown",
   "id": "cfc99b35",
   "metadata": {
    "id": "cfc99b35"
   },
   "source": [
    "Take a second to view the generated table. It is definitely not easy to see which are the highest or lowest correlation values from this table. We can pick out the strong correlations by creating a heatmap, which uses intensity of colors to easily distinguish between higher/lower values. Unfortunately, there are currently no great ways for people to generate heatmaps using the pandas library alone. For this reason we will introduce a different library to help us do bivariate analysis.\n",
    "\n",
    "\n",
    "### Seaborn\n",
    "Introducing: <span style=\"background-color: #AFEEEE\">**Seaborn**</span>! Seaborn is a data visualization library with a special heatmap function. We import the seaborn library and use the <span style=\"background-color: #AFEEEE\">**heatmap()**</span> function to visualize the above correlation table as a heatmap.\n",
    "\n",
    "| Function | Input parameters | Output | Syntax |\n",
    "| --- | --- | --- | --- |\n",
    "| heatmap() | data, annot, cmap (see documentation for more) | A heatmap object. | heatmap(data, annot, cmap) |\n",
    "\n",
    "These parameters provide customization options for visualizing data in the heatmap:\n",
    "* data (required): Represents the 2D dataset for the heatmap. This can be a NumPy array or a Pandas DataFrame. Index/column information in DataFrame is used for labeling.\n",
    "* annot: Controls whether to display values in cells. If True, shows actual values; if an array is provided, uses it for annotation.\n",
    "* cmap: Specifies the colormap for mapping data values to colors. Can be a colormap name, object, or list of colors. Default colormap depends on whether the center parameter is set.\n",
    "\n",
    "There can be more parameters for further customization, but these are just a few we are using in this example.\n"
   ]
  },
  {
   "cell_type": "markdown",
   "id": "30cbda38",
   "metadata": {
    "id": "30cbda38"
   },
   "source": [
    "---\n",
    "\n",
    "##### **Q6.** Let's generate a heatmap of our dataset.\n",
    "<span style=\"background-color: #FFD700\">**Complete the code below.**</span>"
   ]
  },
  {
   "cell_type": "code",
   "execution_count": null,
   "id": "2988d1b9",
   "metadata": {
    "id": "2988d1b9"
   },
   "outputs": [],
   "source": [
    "import seaborn as sns\n",
    "\n",
    "# generate the heatmap\n",
    "heatmap = sns.heatmap(...)  # TODO: fill out the arguments in this line\n",
    "\n",
    "# Resize the plot for better viewing\n",
    "heatmap.figure.set_figwidth(15)\n",
    "heatmap.figure.set_figheight(10)"
   ]
  },
  {
   "cell_type": "markdown",
   "id": "7901ca26",
   "metadata": {
    "id": "7901ca26"
   },
   "source": [
    "As you can see, the darker the shade, the higher the value. We see 1's along the diagonal when we compare each variable against itself, as we discussed earlier. Exclude same-variable pairs when answering the questions below."
   ]
  },
  {
   "cell_type": "markdown",
   "id": "bec58aad",
   "metadata": {
    "id": "bec58aad"
   },
   "source": [
    "---\n",
    "\n",
    "##### **Q7.** Which pair of variables are most positively correlated? Explain what this means in your own words.\n",
    "\n",
    "<span style=\"background-color: #FFD700\">**Write your answer here.**</span>\n",
    "\n",
    "Answer: "
   ]
  },
  {
   "cell_type": "markdown",
   "id": "61136776",
   "metadata": {
    "id": "61136776"
   },
   "source": [
    "---\n",
    "\n",
    "##### **Q8.** Which pair of variables are second most positively correlated? Explain what this means in your own words.\n",
    "\n",
    "<span style=\"background-color: #FFD700\">**Write your answer here.**</span>\n",
    "\n",
    "Answer: "
   ]
  },
  {
   "cell_type": "markdown",
   "id": "c794df86",
   "metadata": {
    "id": "c794df86"
   },
   "source": [
    "---\n",
    "\n",
    "##### **Q9.** Which pair of variables are most negatively correlated? Explain what this means in your own words.\n",
    "\n",
    "<span style=\"background-color: #FFD700\">**Write your answer here.**</span>\n",
    "\n",
    "Answer: "
   ]
  },
  {
   "cell_type": "markdown",
   "id": "1e452713",
   "metadata": {
    "id": "1e452713"
   },
   "source": [
    "---\n",
    "\n",
    "##### **Q10.** Considering that values near 0 are weakly correlated, what do you think about the variables in this dataset based on the heatmap? Do you see more strong correlations or more weak correlations? Do you think this heatmap shows us a clear link between certain variables and patient death?\n",
    "\n",
    "<span style=\"background-color: #FFD700\">**Write your answer here.**</span>\n",
    "\n",
    "Answer: "
   ]
  },
  {
   "cell_type": "markdown",
   "id": "d265455e",
   "metadata": {
    "id": "d265455e"
   },
   "source": [
    "### **Graded exercise** (5 marks total):\n",
    "We can create boxplots of data grouped by a column in the DataFrame. For example, what if we wanted to see the distribution of patient ages in the \"death\" category and \"no death\" category within DEATH_EVENT? We could generate a plot with two boxplots: one for death, and one for no death.\n",
    "\n",
    "Complete the code below to create boxplots that show the distribution of patient ages for each category of DEATH_EVENT (death/no death), and answer the questions that follow. You will want to use a different pandas function for boxplots, called ```boxplot()```; it works in much the same way as ```plot(kind='box')```, but you will not have to specify the kind. There is currently more support for the ```boxplot()``` function in pandas.\n",
    "\n",
    "\n",
    "| Function | Input parameters | Output | Syntax |\n",
    "| --- | --- | --- | --- |\n",
    "| boxplot() | column, by | A boxplot of the specified column in the dataframe. | df.boxplot(column, by) |\n",
    "\n",
    "* column: the column that the boxplot is generated for.\n",
    "* by: the column that you wish to group the data by. One boxplot will be generated for each group.\n",
    "\n"
   ]
  },
  {
   "cell_type": "markdown",
   "id": "21ac3763",
   "metadata": {
    "id": "21ac3763"
   },
   "source": [
    "---\n",
    "\n",
    "##### **GQ1.** Complete the code below to create boxplots that show the distribution of patient ages for each category of DEATH_EVENT (death/no death). (3 marks)"
   ]
  },
  {
   "cell_type": "markdown",
   "id": "9347914b",
   "metadata": {
    "id": "9347914b"
   },
   "source": [
    "<span style=\"background-color: #FFD700\">**complete the code below**</span>"
   ]
  },
  {
   "cell_type": "code",
   "execution_count": null,
   "id": "2892436f",
   "metadata": {
    "id": "2892436f"
   },
   "outputs": [],
   "source": [
    "\n",
    "age_death_box = df.boxplot(...) # TODO: fill in the arguments for the boxplot\n",
    "\n",
    "# Setting the title of the plot\n",
    "import matplotlib.pyplot as plt\n",
    "plt.title('Box plot of age grouped by death event')\n",
    "plt.suptitle(\"\") # get rid of the automatic 'Box plot grouped by group_by_column_name' title\n",
    "plt.show()"
   ]
  },
  {
   "cell_type": "markdown",
   "id": "0efc24d2",
   "metadata": {
    "id": "0efc24d2"
   },
   "source": [
    "---\n",
    "\n",
    "##### **GQ2.** Look at the boxplots you generated. What is the age range and median of patients who died and did not die? (1 mark)\n",
    "\n",
    "<span style=\"background-color: #FFD700\">**Write your answer here.**</span>\n",
    "\n",
    "Answer: \n",
    "\n"
   ]
  },
  {
   "cell_type": "markdown",
   "id": "c45d51be",
   "metadata": {
    "id": "c45d51be"
   },
   "source": [
    "---\n",
    "\n",
    "##### **GQ3.** Compare the boxplots to your stacked bar plot. Are your observations on the boxplots consistent with your analysis of the stacked bar plot? What do these plots suggest? (1 mark)\n",
    "\n",
    "<span style=\"background-color: #FFD700\">**Write your answer here.**</span>\n",
    "\n",
    "Answer: \n",
    "\n",
    "---"
   ]
  },
  {
   "cell_type": "markdown",
   "id": "3cbc2caa",
   "metadata": {
    "id": "3cbc2caa"
   },
   "source": [
    "## Conclusion\n",
    "\n",
    "In this module you have learned:\n",
    "1. Plotting using pandas\n",
    "    * histogram\n",
    "    * bar graph\n",
    "    * stacked bar graph\n",
    "    * box plot\n",
    "2. Bivariate analysis\n",
    "3. Plotting heatmaps using seaborn"
   ]
  },
  {
   "cell_type": "markdown",
   "id": "iS_9igsTOVvv",
   "metadata": {
    "id": "iS_9igsTOVvv"
   },
   "source": [
    "## Further Reading\n",
    "https://pandas.pydata.org/docs/reference/api/pandas.DataFrame.plot.html"
   ]
  }
 ],
 "metadata": {
  "colab": {
   "provenance": []
  },
  "kernelspec": {
   "display_name": "Python 3 (ipykernel)",
   "language": "python",
   "name": "python3"
  },
  "language_info": {
   "codemirror_mode": {
    "name": "ipython",
    "version": 3
   },
   "file_extension": ".py",
   "mimetype": "text/x-python",
   "name": "python",
   "nbconvert_exporter": "python",
   "pygments_lexer": "ipython3",
   "version": "3.11.5"
  }
 },
 "nbformat": 4,
 "nbformat_minor": 5
}
